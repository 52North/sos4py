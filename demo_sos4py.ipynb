{
  "nbformat": 4,
  "nbformat_minor": 0,
  "metadata": {
    "colab": {
      "name": "Untitled1.ipynb",
      "provenance": [],
      "authorship_tag": "ABX9TyMNuBKlK0xe9ttCjtdtNoEp",
      "include_colab_link": true
    },
    "kernelspec": {
      "name": "python3",
      "display_name": "Python 3"
    }
  },
  "cells": [
    {
      "cell_type": "markdown",
      "metadata": {
        "id": "view-in-github",
        "colab_type": "text"
      },
      "source": [
        "<a href=\"https://colab.research.google.com/github/alchav06/sos4py/blob/master/demo_sos4py.ipynb\" target=\"_parent\"><img src=\"https://colab.research.google.com/assets/colab-badge.svg\" alt=\"Open In Colab\"/></a>"
      ]
    },
    {
      "cell_type": "code",
      "metadata": {
        "id": "yRNA8GbyGiPO",
        "colab_type": "code",
        "colab": {
          "base_uri": "https://localhost:8080/",
          "height": 459
        },
        "outputId": "4b22f771-bf5d-4dd8-dd6a-d82bb39ceb87"
      },
      "source": [
        "pip install sos4py"
      ],
      "execution_count": 2,
      "outputs": [
        {
          "output_type": "stream",
          "text": [
            "Collecting sos4py\n",
            "  Downloading https://files.pythonhosted.org/packages/72/20/90f85e7f0a08ff00d951d023c3872adc132434c4269529cd0d50ffcb9eac/sos4py-0.1.0.tar.gz\n",
            "Collecting OWSLib\n",
            "\u001b[?25l  Downloading https://files.pythonhosted.org/packages/c4/6a/428d73506f6f5281408b518249b90d7c96a1394c6d954a2069cbd5a4ac39/OWSLib-0.20.0-py2.py3-none-any.whl (197kB)\n",
            "\u001b[K     |████████████████████████████████| 204kB 3.7MB/s \n",
            "\u001b[?25hRequirement already satisfied: pandas in /usr/local/lib/python3.6/dist-packages (from sos4py) (1.0.5)\n",
            "Requirement already satisfied: requests>=1.0 in /usr/local/lib/python3.6/dist-packages (from OWSLib->sos4py) (2.23.0)\n",
            "Requirement already satisfied: pytz in /usr/local/lib/python3.6/dist-packages (from OWSLib->sos4py) (2018.9)\n",
            "Requirement already satisfied: python-dateutil>=1.5 in /usr/local/lib/python3.6/dist-packages (from OWSLib->sos4py) (2.8.1)\n",
            "Collecting pyproj>=2\n",
            "\u001b[?25l  Downloading https://files.pythonhosted.org/packages/e5/c3/071e080230ac4b6c64f1a2e2f9161c9737a2bc7b683d2c90b024825000c0/pyproj-2.6.1.post1-cp36-cp36m-manylinux2010_x86_64.whl (10.9MB)\n",
            "\u001b[K     |████████████████████████████████| 10.9MB 7.3MB/s \n",
            "\u001b[?25hRequirement already satisfied: pyyaml in /usr/local/lib/python3.6/dist-packages (from OWSLib->sos4py) (3.13)\n",
            "Requirement already satisfied: numpy>=1.13.3 in /usr/local/lib/python3.6/dist-packages (from pandas->sos4py) (1.18.5)\n",
            "Requirement already satisfied: certifi>=2017.4.17 in /usr/local/lib/python3.6/dist-packages (from requests>=1.0->OWSLib->sos4py) (2020.6.20)\n",
            "Requirement already satisfied: idna<3,>=2.5 in /usr/local/lib/python3.6/dist-packages (from requests>=1.0->OWSLib->sos4py) (2.9)\n",
            "Requirement already satisfied: urllib3!=1.25.0,!=1.25.1,<1.26,>=1.21.1 in /usr/local/lib/python3.6/dist-packages (from requests>=1.0->OWSLib->sos4py) (1.24.3)\n",
            "Requirement already satisfied: chardet<4,>=3.0.2 in /usr/local/lib/python3.6/dist-packages (from requests>=1.0->OWSLib->sos4py) (3.0.4)\n",
            "Requirement already satisfied: six>=1.5 in /usr/local/lib/python3.6/dist-packages (from python-dateutil>=1.5->OWSLib->sos4py) (1.12.0)\n",
            "Building wheels for collected packages: sos4py\n",
            "  Building wheel for sos4py (setup.py) ... \u001b[?25l\u001b[?25hdone\n",
            "  Created wheel for sos4py: filename=sos4py-0.1.0-py2.py3-none-any.whl size=10290 sha256=d5ca3ecb90a61c8cb7b5b428fe0bbc46efadf708a10af565ebcf8f087328564c\n",
            "  Stored in directory: /root/.cache/pip/wheels/b3/16/05/78a83c2c2e9458a8f503c93d7a3acb86f05cfc7f5b7b999f7c\n",
            "Successfully built sos4py\n",
            "Installing collected packages: pyproj, OWSLib, sos4py\n",
            "Successfully installed OWSLib-0.20.0 pyproj-2.6.1.post1 sos4py-0.1.0\n"
          ],
          "name": "stdout"
        }
      ]
    },
    {
      "cell_type": "code",
      "metadata": {
        "id": "XxkCtbHHGsAS",
        "colab_type": "code",
        "colab": {}
      },
      "source": [
        "from sos4py.main import connection_sos\n",
        "\n",
        "#Connect to a SOS server\n",
        "service = connection_sos(\"http://sensorweb.demo.52north.org/sensorwebtestbed/service/kvp\")\n",
        "service2 = connection_sos('http://sensorweb.demo.52north.org/52n-sos-webapp/sos/kvp')"
      ],
      "execution_count": 9,
      "outputs": []
    },
    {
      "cell_type": "code",
      "metadata": {
        "id": "dcymvK31G0je",
        "colab_type": "code",
        "colab": {
          "base_uri": "https://localhost:8080/",
          "height": 1000
        },
        "outputId": "d5be6a43-601b-4183-8593-2eaa01cb9ecb"
      },
      "source": [
        "# Request all data availability\n",
        "service2.get_data_availability()"
      ],
      "execution_count": 5,
      "outputs": [
        {
          "output_type": "execute_result",
          "data": {
            "text/plain": [
              "[Procedure                      http://www.52north.org/test/procedure/7\n",
              " ObservedProperty      http://www.52north.org/test/observableProperty/7\n",
              " FeatureOfInterest      http://www.52north.org/test/featureOfInterest/7\n",
              " PhenomenonTime       start: 2012-11-19 13:00:00+00:00 end: 2012-11-...\n",
              " StartTime                                    2012-11-19 13:00:00+00:00\n",
              " EndTime                                      2012-11-19 13:09:00+00:00\n",
              " ResultTime                                                        None\n",
              " Name: gda_member, dtype: object,\n",
              " Procedure                     http://www.52north.org/test/procedure/1\n",
              " ObservedProperty     http://www.52north.org/test/observableProperty/1\n",
              " FeatureOfInterest     http://www.52north.org/test/featureOfInterest/1\n",
              " PhenomenonTime                                  start: None end: None\n",
              " StartTime                                                        None\n",
              " EndTime                                                          None\n",
              " ResultTime                                                       None\n",
              " Name: gda_member, dtype: object,\n",
              " Procedure                      http://www.52north.org/test/procedure/8\n",
              " ObservedProperty      http://www.52north.org/test/observableProperty/8\n",
              " FeatureOfInterest      http://www.52north.org/test/featureOfInterest/8\n",
              " PhenomenonTime       start: 2012-11-19 13:00:00+00:00 end: 2012-11-...\n",
              " StartTime                                    2012-11-19 13:00:00+00:00\n",
              " EndTime                                      2012-11-19 13:49:59+00:00\n",
              " ResultTime                                                        None\n",
              " Name: gda_member, dtype: object,\n",
              " Procedure                     http://www.52north.org/test/procedure/2\n",
              " ObservedProperty     http://www.52north.org/test/observableProperty/2\n",
              " FeatureOfInterest     http://www.52north.org/test/featureOfInterest/2\n",
              " PhenomenonTime                                  start: None end: None\n",
              " StartTime                                                        None\n",
              " EndTime                                                          None\n",
              " ResultTime                                                       None\n",
              " Name: gda_member, dtype: object,\n",
              " Procedure              http://www.52north.org/test/procedure/developer\n",
              " ObservedProperty     http://www.52north.org/test/observableProperty...\n",
              " FeatureOfInterest    http://www.52north.org/test/featureOfInterest/...\n",
              " PhenomenonTime       start: 2008-10-29 00:00:00+00:00 end: 2008-10-...\n",
              " StartTime                                    2008-10-29 00:00:00+00:00\n",
              " EndTime                                      2008-10-29 00:00:00+00:00\n",
              " ResultTime                                                        None\n",
              " Name: gda_member, dtype: object,\n",
              " Procedure              http://www.52north.org/test/procedure/developer\n",
              " ObservedProperty     http://www.52north.org/test/observableProperty...\n",
              " FeatureOfInterest    http://www.52north.org/test/featureOfInterest/...\n",
              " PhenomenonTime                                   start: None end: None\n",
              " StartTime                                                         None\n",
              " EndTime                                                           None\n",
              " ResultTime                                                        None\n",
              " Name: gda_member, dtype: object,\n",
              " Procedure              http://www.52north.org/test/procedure/developer\n",
              " ObservedProperty     http://www.52north.org/test/observableProperty...\n",
              " FeatureOfInterest    http://www.52north.org/test/featureOfInterest/...\n",
              " PhenomenonTime                                   start: None end: None\n",
              " StartTime                                                         None\n",
              " EndTime                                                           None\n",
              " ResultTime                                                        None\n",
              " Name: gda_member, dtype: object,\n",
              " Procedure              http://www.52north.org/test/procedure/developer\n",
              " ObservedProperty     http://www.52north.org/test/observableProperty...\n",
              " FeatureOfInterest    http://www.52north.org/test/featureOfInterest/...\n",
              " PhenomenonTime       start: 2012-12-31 23:00:00+00:00 end: 2012-12-...\n",
              " StartTime                                    2012-12-31 23:00:00+00:00\n",
              " EndTime                                      2012-12-31 23:00:00+00:00\n",
              " ResultTime                                                        None\n",
              " Name: gda_member, dtype: object,\n",
              " Procedure                     http://www.52north.org/test/procedure/3\n",
              " ObservedProperty     http://www.52north.org/test/observableProperty/3\n",
              " FeatureOfInterest     http://www.52north.org/test/featureOfInterest/3\n",
              " PhenomenonTime                                  start: None end: None\n",
              " StartTime                                                        None\n",
              " EndTime                                                          None\n",
              " ResultTime                                                       None\n",
              " Name: gda_member, dtype: object,\n",
              " Procedure                     http://www.52north.org/test/procedure/4\n",
              " ObservedProperty     http://www.52north.org/test/observableProperty/4\n",
              " FeatureOfInterest     http://www.52north.org/test/featureOfInterest/4\n",
              " PhenomenonTime                                  start: None end: None\n",
              " StartTime                                                        None\n",
              " EndTime                                                          None\n",
              " ResultTime                                                       None\n",
              " Name: gda_member, dtype: object,\n",
              " Procedure                     http://www.52north.org/test/procedure/5\n",
              " ObservedProperty     http://www.52north.org/test/observableProperty/5\n",
              " FeatureOfInterest     http://www.52north.org/test/featureOfInterest/5\n",
              " PhenomenonTime                                  start: None end: None\n",
              " StartTime                                                        None\n",
              " EndTime                                                          None\n",
              " ResultTime                                                       None\n",
              " Name: gda_member, dtype: object,\n",
              " Procedure                     http://www.52north.org/test/procedure/6\n",
              " ObservedProperty     http://www.52north.org/test/observableProperty/6\n",
              " FeatureOfInterest     http://www.52north.org/test/featureOfInterest/6\n",
              " PhenomenonTime                                  start: None end: None\n",
              " StartTime                                                        None\n",
              " EndTime                                                          None\n",
              " ResultTime                                                       None\n",
              " Name: gda_member, dtype: object]"
            ]
          },
          "metadata": {
            "tags": []
          },
          "execution_count": 5
        }
      ]
    },
    {
      "cell_type": "code",
      "metadata": {
        "id": "qLqvQbfDH6Bk",
        "colab_type": "code",
        "colab": {
          "base_uri": "https://localhost:8080/",
          "height": 153
        },
        "outputId": "c1348a61-5c1a-4c5d-a270-11c041432494"
      },
      "source": [
        "#Query a GDA request\n",
        "service2.get_data_availability(procedures=['http://www.52north.org/test/procedure/6'], featuresOfInterest=['http://www.52north.org/test/featureOfInterest/6'])"
      ],
      "execution_count": 17,
      "outputs": [
        {
          "output_type": "execute_result",
          "data": {
            "text/plain": [
              "[Procedure                      http://www.52north.org/test/procedure/6\n",
              " ObservedProperty      http://www.52north.org/test/observableProperty/6\n",
              " FeatureOfInterest      http://www.52north.org/test/featureOfInterest/6\n",
              " PhenomenonTime       start: 2012-11-19 13:00:00+00:00 end: 2012-11-...\n",
              " StartTime                                    2012-11-19 13:00:00+00:00\n",
              " EndTime                                      2012-11-19 13:09:00+00:00\n",
              " ResultTime                                                        None\n",
              " Name: gda_member, dtype: object]"
            ]
          },
          "metadata": {
            "tags": []
          },
          "execution_count": 17
        }
      ]
    },
    {
      "cell_type": "code",
      "metadata": {
        "id": "Zbu89OWYFnJm",
        "colab_type": "code",
        "colab": {
          "base_uri": "https://localhost:8080/",
          "height": 221
        },
        "outputId": "ad4acf8a-f5b5-453d-8bcc-d8f1e04386a9"
      },
      "source": [
        "#Access service identification\n",
        "service.sosServiceIdentification()"
      ],
      "execution_count": 12,
      "outputs": [
        {
          "output_type": "execute_result",
          "data": {
            "text/plain": [
              "_root                [[], [], [], [], [], [], [], [], [], [], [], [...\n",
              "title                                                          52N SOS\n",
              "abstract             52North Sensor Observation Service - Data Acce...\n",
              "keywords                                                            []\n",
              "accessconstraints                                                 NONE\n",
              "fees                                                              NONE\n",
              "type                                                           OGC:SOS\n",
              "service                                                        OGC:SOS\n",
              "version                                                          1.0.0\n",
              "versions                                                       [1.0.0]\n",
              "profiles             [http://www.opengis.net/extension/SOSDO/1.0/ob...\n",
              "Name: ServiceIdentification, dtype: object"
            ]
          },
          "metadata": {
            "tags": []
          },
          "execution_count": 12
        }
      ]
    },
    {
      "cell_type": "code",
      "metadata": {
        "id": "CabdVhj8GIef",
        "colab_type": "code",
        "colab": {
          "base_uri": "https://localhost:8080/",
          "height": 884
        },
        "outputId": "3db1a834-a83b-4b69-97b8-77fa3c81d377"
      },
      "source": [
        "# What type is this function? Pandas Series\n",
        "type(service.sosServiceIdentification())\n",
        "# Access to elements in pandas Series dataframe\n",
        "service.sosServiceIdentification()['profiles']"
      ],
      "execution_count": 11,
      "outputs": [
        {
          "output_type": "execute_result",
          "data": {
            "text/plain": [
              "['http://www.opengis.net/extension/SOSDO/1.0/observationDeletion',\n",
              " 'http://www.opengis.net/spec/OMXML/1.0/conf/categoryObservation',\n",
              " 'http://www.opengis.net/spec/OMXML/1.0/conf/countObservation',\n",
              " 'http://www.opengis.net/spec/OMXML/1.0/conf/geometryObservation',\n",
              " 'http://www.opengis.net/spec/OMXML/1.0/conf/measurement',\n",
              " 'http://www.opengis.net/spec/OMXML/1.0/conf/textObservation',\n",
              " 'http://www.opengis.net/spec/OMXML/1.0/conf/truthObservation',\n",
              " 'http://www.opengis.net/spec/OMXML/2.0/conf/categoryObservation',\n",
              " 'http://www.opengis.net/spec/OMXML/2.0/conf/countObservation',\n",
              " 'http://www.opengis.net/spec/OMXML/2.0/conf/geometryObservation',\n",
              " 'http://www.opengis.net/spec/OMXML/2.0/conf/measurement',\n",
              " 'http://www.opengis.net/spec/OMXML/2.0/conf/samplingCurve',\n",
              " 'http://www.opengis.net/spec/OMXML/2.0/conf/samplingPoint',\n",
              " 'http://www.opengis.net/spec/OMXML/2.0/conf/samplingSurface',\n",
              " 'http://www.opengis.net/spec/OMXML/2.0/conf/spatialSampling',\n",
              " 'http://www.opengis.net/spec/OMXML/2.0/conf/textObservation',\n",
              " 'http://www.opengis.net/spec/OMXML/2.0/conf/truthObservation',\n",
              " 'http://www.opengis.net/spec/SOS/1.0/conf/core',\n",
              " 'http://www.opengis.net/spec/SOS/1.0/conf/enhanced',\n",
              " 'http://www.opengis.net/spec/SOS/2.0/conf/core',\n",
              " 'http://www.opengis.net/spec/SOS/2.0/conf/daRetrieval',\n",
              " 'http://www.opengis.net/spec/SOS/2.0/conf/exi',\n",
              " 'http://www.opengis.net/spec/SOS/2.0/conf/foiRetrieval',\n",
              " 'http://www.opengis.net/spec/SOS/2.0/conf/insertionCap',\n",
              " 'http://www.opengis.net/spec/SOS/2.0/conf/json',\n",
              " 'http://www.opengis.net/spec/SOS/2.0/conf/kvp-core',\n",
              " 'http://www.opengis.net/spec/SOS/2.0/conf/obsByIdRetrieval',\n",
              " 'http://www.opengis.net/spec/SOS/2.0/conf/obsInsertion',\n",
              " 'http://www.opengis.net/spec/SOS/2.0/conf/pox',\n",
              " 'http://www.opengis.net/spec/SOS/2.0/conf/rest',\n",
              " 'http://www.opengis.net/spec/SOS/2.0/conf/resultRetrieval',\n",
              " 'http://www.opengis.net/spec/SOS/2.0/conf/sensorInsertion',\n",
              " 'http://www.opengis.net/spec/SOS/2.0/conf/soap',\n",
              " 'http://www.opengis.net/spec/SOS/2.0/conf/updateSensorDescription',\n",
              " 'http://www.opengis.net/spec/SWE/2.0/conf/core',\n",
              " 'http://www.opengis.net/spec/SWE/2.0/conf/general-encoding-rules',\n",
              " 'http://www.opengis.net/spec/SWE/2.0/conf/text-encoding-rules',\n",
              " 'http://www.opengis.net/spec/SWE/2.0/conf/uml-block-components',\n",
              " 'http://www.opengis.net/spec/SWE/2.0/conf/uml-record-components',\n",
              " 'http://www.opengis.net/spec/SWE/2.0/conf/uml-simple-components',\n",
              " 'http://www.opengis.net/spec/SWE/2.0/conf/uml-simple-encodings',\n",
              " 'http://www.opengis.net/spec/SWE/2.0/conf/xsd-block-components',\n",
              " 'http://www.opengis.net/spec/SWE/2.0/conf/xsd-record-components',\n",
              " 'http://www.opengis.net/spec/SWE/2.0/conf/xsd-simple-components',\n",
              " 'http://www.opengis.net/spec/SWE/2.0/conf/xsd-simple-encodings',\n",
              " 'http://www.opengis.net/spec/waterml/2.0/conf/uml-measurement-timeries-tvp-observation',\n",
              " 'http://www.opengis.net/spec/waterml/2.0/conf/uml-timeseries-tvp-observation',\n",
              " 'http://www.opengis.net/spec/waterml/2.0/conf/xsd-measurement-timeseries-tvp',\n",
              " 'http://www.opengis.net/spec/waterml/2.0/conf/xsd-timeseries-observation',\n",
              " 'http://www.opengis.net/spec/waterml/2.0/conf/xsd-timeseries-tvp-observation',\n",
              " 'http://www.opengis.net/spec/waterml/2.0/conf/xsd-xml-rules']"
            ]
          },
          "metadata": {
            "tags": []
          },
          "execution_count": 11
        }
      ]
    },
    {
      "cell_type": "code",
      "metadata": {
        "id": "qECGEevKFtex",
        "colab_type": "code",
        "colab": {
          "base_uri": "https://localhost:8080/",
          "height": 323
        },
        "outputId": "feb9842d-f3e0-4d52-c996-b3bb782387f9"
      },
      "source": [
        "service.sosProvider()"
      ],
      "execution_count": 13,
      "outputs": [
        {
          "output_type": "execute_result",
          "data": {
            "text/plain": [
              "_root           [[], [], [[], [], [<Element {http://www.opengi...\n",
              "name                                        Jürrens, Eike Hinderk\n",
              "organization                                                 None\n",
              "site                                          http://52north.org/\n",
              "role                                                         None\n",
              "position                                       Service Maintainer\n",
              "phone                                        +49(0)251/396 371-33\n",
              "fax                                                          None\n",
              "address                                 Martin-Luther-King-Weg 24\n",
              "city                                                      Münster\n",
              "region                                     North Rhine-Westphalia\n",
              "postcode                                                    48155\n",
              "country                                                   Germany\n",
              "email                                    e.h.juerrens@52north.org\n",
              "url                                                          None\n",
              "hours                                                        None\n",
              "instructions                                                 None\n",
              "Name: ProviderData, dtype: object"
            ]
          },
          "metadata": {
            "tags": []
          },
          "execution_count": 13
        }
      ]
    },
    {
      "cell_type": "code",
      "metadata": {
        "id": "2o9EkayUGHVS",
        "colab_type": "code",
        "colab": {
          "base_uri": "https://localhost:8080/",
          "height": 35
        },
        "outputId": "feb81233-e5ef-45d1-a7a8-b7a4bedd8d06"
      },
      "source": [
        "#Access operations metadata\n",
        "service.sosOperationsMetadata()[1]['Name']"
      ],
      "execution_count": 14,
      "outputs": [
        {
          "output_type": "execute_result",
          "data": {
            "application/vnd.google.colaboratory.intrinsic": {
              "type": "string"
            },
            "text/plain": [
              "'DescribeSensor'"
            ]
          },
          "metadata": {
            "tags": []
          },
          "execution_count": 14
        }
      ]
    },
    {
      "cell_type": "code",
      "metadata": {
        "id": "yfMFy9cdGP2S",
        "colab_type": "code",
        "colab": {
          "base_uri": "https://localhost:8080/",
          "height": 34
        },
        "outputId": "93cadec0-d48d-40ff-da39-59dca5245cef"
      },
      "source": [
        "#Access offerings of the server\n",
        "service.sosOfferings()[1]['bbox']"
      ],
      "execution_count": 15,
      "outputs": [
        {
          "output_type": "execute_result",
          "data": {
            "text/plain": [
              "(7.65234184265137, 51.934814453125, 7.65234184265137, 51.934814453125)"
            ]
          },
          "metadata": {
            "tags": []
          },
          "execution_count": 15
        }
      ]
    },
    {
      "cell_type": "code",
      "metadata": {
        "id": "upuEBGDIGReL",
        "colab_type": "code",
        "colab": {
          "base_uri": "https://localhost:8080/",
          "height": 578
        },
        "outputId": "5cc7159d-f6aa-4fd4-9694-c75f908eb507"
      },
      "source": [
        "# Access to list elements\n",
        "service.sosPhenomena()"
      ],
      "execution_count": 16,
      "outputs": [
        {
          "output_type": "execute_result",
          "data": {
            "text/plain": [
              "['AirTemperature',\n",
              " 'AthmosphericPressure',\n",
              " 'Dewpoint',\n",
              " 'HailAccumulated',\n",
              " 'HailDuration',\n",
              " 'HailIntensity',\n",
              " 'HailPeakIntensity',\n",
              " 'Humidity',\n",
              " 'InSystemTemperature',\n",
              " 'Luminance',\n",
              " 'RainfallAccumulated',\n",
              " 'RainfallDuration',\n",
              " 'RainfallIntensity',\n",
              " 'RainfallPeakIntensity',\n",
              " 'ShortwaveRadiation',\n",
              " 'Sunshine',\n",
              " 'Visibility',\n",
              " 'WeatherCode',\n",
              " 'WeatherCode_text',\n",
              " 'WindDirection',\n",
              " 'WindDirectionAverage',\n",
              " 'WindDirectionMaximum',\n",
              " 'WindDirectionMinimum',\n",
              " 'WindDirectionText',\n",
              " 'WindMaxGust',\n",
              " 'WindSpeed',\n",
              " 'WindSpeedAverage',\n",
              " 'WindSpeedBft',\n",
              " 'WindSpeedKmh',\n",
              " 'WindSpeedMaximum',\n",
              " 'WindSpeedMinimum',\n",
              " 'WindSpeedMperSec',\n",
              " 'Windchill']"
            ]
          },
          "metadata": {
            "tags": []
          },
          "execution_count": 16
        }
      ]
    }
  ]
}